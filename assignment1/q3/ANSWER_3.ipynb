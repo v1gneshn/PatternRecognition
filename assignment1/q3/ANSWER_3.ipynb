{
 "cells": [
  {
   "cell_type": "code",
   "execution_count": 1,
   "id": "oriented-first",
   "metadata": {},
   "outputs": [
    {
     "name": "stdout",
     "output_type": "stream",
     "text": [
      "Intersection set= {'with', 'a', 'of', 'is', 'basic', 'MATLAB'}\n",
      "Numerator= 9\n",
      "Denominator= 31.432467291003416\n",
      "Cosine distance: 0.28632814333910006\n",
      "Cosine angle: 0.7136718566608999\n"
     ]
    }
   ],
   "source": [
    "#Answer 3\n",
    "\n",
    "import math\n",
    "import re\n",
    "from collections import Counter\n",
    "\n",
    "f1 = open('doc1.txt', 'r')\n",
    "f2 = open('doc2.txt', 'r')\n",
    "doc1 = f1.read()\n",
    "doc2 = f2.read()\n",
    "#print(doc1)\n",
    "#print(doc2)\n",
    "\n",
    "WORD = re.compile(r\"\\w+\")\n",
    "\n",
    "\n",
    "def get_cosine(vec1, vec2):\n",
    "    intersection = set(vec1.keys()) & set(vec2.keys())\n",
    "    print(\"Intersection set=\",intersection)\n",
    "    numerator = sum([vec1[x] * vec2[x] for x in intersection])\n",
    "    print(\"Numerator=\",numerator)\n",
    "\n",
    "    sum1 = sum([vec1[x] ** 2 for x in list(vec1.keys())])\n",
    "    sum2 = sum([vec2[x] ** 2 for x in list(vec2.keys())])\n",
    "    denominator = math.sqrt(sum1) * math.sqrt(sum2)\n",
    "    print(\"Denominator=\",denominator)\n",
    "\n",
    "    if not denominator:\n",
    "        return 0.0\n",
    "    else:\n",
    "        return float(numerator) / denominator\n",
    "\n",
    "\n",
    "def text_to_vector(text):\n",
    "    words = WORD.findall(text)\n",
    "    return Counter(words)\n",
    "\n",
    "\n",
    "vector1 = text_to_vector(doc1)\n",
    "vector2 = text_to_vector(doc2)\n",
    "\n",
    "cosine = get_cosine(vector1, vector2)\n",
    "\n",
    "print(\"Cosine distance:\", cosine)\n",
    "print(\"Cosine angle:\",1-cosine)\n",
    "\n",
    "\n",
    "f1.close()\n",
    "f2.close()"
   ]
  }
 ],
 "metadata": {
  "kernelspec": {
   "display_name": "Python [conda env:tf] *",
   "language": "python",
   "name": "conda-env-tf-py"
  },
  "language_info": {
   "codemirror_mode": {
    "name": "ipython",
    "version": 3
   },
   "file_extension": ".py",
   "mimetype": "text/x-python",
   "name": "python",
   "nbconvert_exporter": "python",
   "pygments_lexer": "ipython3",
   "version": "3.8.5"
  }
 },
 "nbformat": 4,
 "nbformat_minor": 5
}
