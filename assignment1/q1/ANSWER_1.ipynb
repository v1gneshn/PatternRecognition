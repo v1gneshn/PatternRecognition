{
 "cells": [
  {
   "cell_type": "code",
   "execution_count": 5,
   "id": "sitting-tutorial",
   "metadata": {},
   "outputs": [
    {
     "name": "stdout",
     "output_type": "stream",
     "text": [
      "KL Distance(H1,H2) :  0.0974937936638661\n",
      "KL Distance(H2,H1) :  0.0974937936638661\n"
     ]
    },
    {
     "ename": "IndexError",
     "evalue": "list index out of range",
     "output_type": "error",
     "traceback": [
      "\u001b[1;31m---------------------------------------------------------------------------\u001b[0m",
      "\u001b[1;31mIndexError\u001b[0m                                Traceback (most recent call last)",
      "\u001b[1;32m<ipython-input-5-829dfd95669f>\u001b[0m in \u001b[0;36m<module>\u001b[1;34m\u001b[0m\n\u001b[0;32m     40\u001b[0m \u001b[0mprint\u001b[0m\u001b[1;33m(\u001b[0m\u001b[1;34m\"KL Distance(H1,H2) : \"\u001b[0m\u001b[1;33m,\u001b[0m \u001b[0mKL\u001b[0m\u001b[1;33m(\u001b[0m\u001b[0mH1\u001b[0m\u001b[1;33m,\u001b[0m \u001b[0mH2\u001b[0m\u001b[1;33m)\u001b[0m \u001b[1;33m)\u001b[0m\u001b[1;33m\u001b[0m\u001b[1;33m\u001b[0m\u001b[0m\n\u001b[0;32m     41\u001b[0m \u001b[0mprint\u001b[0m\u001b[1;33m(\u001b[0m\u001b[1;34m\"KL Distance(H2,H1) : \"\u001b[0m\u001b[1;33m,\u001b[0m \u001b[0mKL\u001b[0m\u001b[1;33m(\u001b[0m\u001b[0mH2\u001b[0m\u001b[1;33m,\u001b[0m \u001b[0mH1\u001b[0m\u001b[1;33m)\u001b[0m \u001b[1;33m)\u001b[0m\u001b[1;33m\u001b[0m\u001b[1;33m\u001b[0m\u001b[0m\n\u001b[1;32m---> 42\u001b[1;33m \u001b[0mprint\u001b[0m\u001b[1;33m(\u001b[0m\u001b[1;34m\"Bhattacharya Distance : \"\u001b[0m\u001b[1;33m,\u001b[0m\u001b[0mbhattacharya\u001b[0m\u001b[1;33m(\u001b[0m\u001b[0mH1\u001b[0m\u001b[1;33m,\u001b[0m\u001b[0mH2\u001b[0m\u001b[1;33m)\u001b[0m\u001b[1;33m)\u001b[0m\u001b[1;33m\u001b[0m\u001b[1;33m\u001b[0m\u001b[0m\n\u001b[0m",
      "\u001b[1;32m<ipython-input-5-829dfd95669f>\u001b[0m in \u001b[0;36mbhattacharya\u001b[1;34m(hist1, hist2)\u001b[0m\n\u001b[0;32m     33\u001b[0m    \u001b[0mscore\u001b[0m \u001b[1;33m=\u001b[0m \u001b[1;36m0\u001b[0m\u001b[1;33m;\u001b[0m\u001b[1;33m\u001b[0m\u001b[1;33m\u001b[0m\u001b[0m\n\u001b[0;32m     34\u001b[0m    \u001b[1;32mfor\u001b[0m \u001b[0mi\u001b[0m \u001b[1;32min\u001b[0m \u001b[0mrange\u001b[0m\u001b[1;33m(\u001b[0m\u001b[1;36m8\u001b[0m\u001b[1;33m)\u001b[0m\u001b[1;33m:\u001b[0m\u001b[1;33m\u001b[0m\u001b[1;33m\u001b[0m\u001b[0m\n\u001b[1;32m---> 35\u001b[1;33m        \u001b[0mscore\u001b[0m \u001b[1;33m+=\u001b[0m \u001b[0mmath\u001b[0m\u001b[1;33m.\u001b[0m\u001b[0msqrt\u001b[0m\u001b[1;33m(\u001b[0m \u001b[0mhist1\u001b[0m\u001b[1;33m[\u001b[0m\u001b[0mi\u001b[0m\u001b[1;33m]\u001b[0m \u001b[1;33m*\u001b[0m \u001b[0mhist2\u001b[0m\u001b[1;33m[\u001b[0m\u001b[0mi\u001b[0m\u001b[1;33m]\u001b[0m \u001b[1;33m)\u001b[0m\u001b[1;33m;\u001b[0m\u001b[1;33m\u001b[0m\u001b[1;33m\u001b[0m\u001b[0m\n\u001b[0m\u001b[0;32m     36\u001b[0m    \u001b[1;31m# print h1_,h2_,score;\u001b[0m\u001b[1;33m\u001b[0m\u001b[1;33m\u001b[0m\u001b[1;33m\u001b[0m\u001b[0m\n\u001b[0;32m     37\u001b[0m    \u001b[0mscore\u001b[0m \u001b[1;33m=\u001b[0m \u001b[0mmath\u001b[0m\u001b[1;33m.\u001b[0m\u001b[0msqrt\u001b[0m\u001b[1;33m(\u001b[0m \u001b[1;36m1\u001b[0m \u001b[1;33m-\u001b[0m \u001b[1;33m(\u001b[0m \u001b[1;36m1\u001b[0m \u001b[1;33m/\u001b[0m \u001b[0mmath\u001b[0m\u001b[1;33m.\u001b[0m\u001b[0msqrt\u001b[0m\u001b[1;33m(\u001b[0m\u001b[0mh1_\u001b[0m\u001b[1;33m*\u001b[0m\u001b[0mh2_\u001b[0m\u001b[1;33m*\u001b[0m\u001b[1;36m8\u001b[0m\u001b[1;33m*\u001b[0m\u001b[1;36m8\u001b[0m\u001b[1;33m)\u001b[0m \u001b[1;33m)\u001b[0m \u001b[1;33m*\u001b[0m \u001b[0mscore\u001b[0m \u001b[1;33m)\u001b[0m\u001b[1;33m;\u001b[0m\u001b[1;33m\u001b[0m\u001b[1;33m\u001b[0m\u001b[0m\n",
      "\u001b[1;31mIndexError\u001b[0m: list index out of range"
     ]
    }
   ],
   "source": [
    " ############################ ASSIGNMENT -1 (Pattern Recognition) [ EDM18B055, EVD18I022]######################\n",
    " \n",
    " ## Answer 1   \n",
    "\n",
    "import numpy as np\n",
    "import math\n",
    "def KL(a, b):\n",
    "    a = np.asarray(a, dtype=float) #np.float if numpy error pops\n",
    "    b = np.asarray(b, dtype=float)\n",
    "\n",
    "    return np.sum(np.where(a != 0, a * np.log2(a / b), 0))\n",
    "\n",
    "\n",
    "H1 = [ 0.3333333, 0.5, 0.5]\n",
    "H2 = [ 0.5,0.3333333 , 0.5]\n",
    "\n",
    "\n",
    "def mean( hist ):\n",
    "    mean = 0.0;\n",
    "    for i in hist:\n",
    "        mean += i;\n",
    "    mean/= len(hist);\n",
    "    return mean;\n",
    "\n",
    "\n",
    "def bhattacharya ( hist1,  hist2):\n",
    "    \n",
    "    h1_ = mean(hist1); # calculate mean of H1\n",
    "\n",
    "    h2_ = mean(hist2); # calculate mean of H2\n",
    "\n",
    "    # calculation of score\n",
    "    score = 0;\n",
    "    for i in range(8):\n",
    "        score += math.sqrt( hist1[i] * hist2[i] );\n",
    "    # print h1_,h2_,score;\n",
    "    score = math.sqrt( 1 - ( 1 / math.sqrt(h1_*h2_*8*8) ) * score );\n",
    "    return score;\n",
    "\n",
    "print(\"KL Distance(H1,H2) : \", KL(H1, H2) )\n",
    "print(\"KL Distance(H2,H1) : \", KL(H2, H1) )\n",
    "print(\"Bhattacharya Distance : \",bhattacharya(H1,H2))"
   ]
  },
  {
   "cell_type": "code",
   "execution_count": 10,
   "id": "czech-polyester",
   "metadata": {},
   "outputs": [
    {
     "data": {
      "text/plain": [
       "4.0"
      ]
     },
     "execution_count": 10,
     "metadata": {},
     "output_type": "execute_result"
    }
   ],
   "source": [
    "from scipy.spatial import distance\n",
    "distance.minkowski([3, 5], [-1,5],1)"
   ]
  },
  {
   "cell_type": "code",
   "execution_count": 11,
   "id": "pediatric-doctor",
   "metadata": {},
   "outputs": [
    {
     "data": {
      "text/plain": [
       "0.5562398430198168"
      ]
     },
     "execution_count": 11,
     "metadata": {},
     "output_type": "execute_result"
    }
   ],
   "source": [
    "distance.cosine([ 4, 3, 2, 6 ], [ 1, 0, 2, 0])"
   ]
  }
 ],
 "metadata": {
  "kernelspec": {
   "display_name": "Python [conda env:tf] *",
   "language": "python",
   "name": "conda-env-tf-py"
  },
  "language_info": {
   "codemirror_mode": {
    "name": "ipython",
    "version": 3
   },
   "file_extension": ".py",
   "mimetype": "text/x-python",
   "name": "python",
   "nbconvert_exporter": "python",
   "pygments_lexer": "ipython3",
   "version": "3.8.5"
  }
 },
 "nbformat": 4,
 "nbformat_minor": 5
}
