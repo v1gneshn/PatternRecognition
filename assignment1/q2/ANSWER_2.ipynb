{
 "cells": [
  {
   "cell_type": "code",
   "execution_count": 2,
   "id": "detected-chicago",
   "metadata": {},
   "outputs": [
    {
     "name": "stdout",
     "output_type": "stream",
     "text": [
      "Quadratic Distance = 0.6526249999999999\n"
     ]
    }
   ],
   "source": [
    "#Answer 2\n",
    "import numpy as np\n",
    "\n",
    "hq_ht = np.transpose([0.5 ,0.5 ,-0.5 ,-0.25, -0.25])\n",
    "#type(hq_ht) = numpy.ndarray\n",
    "A=np.array([[1,0.135,0.195,0.137,0.157],[0.135,1,0.2,0.309,0.143],[0.195,0.2,1,0.157,0.122],[0.137,0.309,0.157,1,0.195],[0.157,0.143,0.122,0.195,1]])\n",
    "D=np.transpose(hq_ht)@A@(hq_ht)\n",
    "print(\"Quadratic Distance =\",D)"
   ]
  }
 ],
 "metadata": {
  "kernelspec": {
   "display_name": "Python [conda env:tf] *",
   "language": "python",
   "name": "conda-env-tf-py"
  },
  "language_info": {
   "codemirror_mode": {
    "name": "ipython",
    "version": 3
   },
   "file_extension": ".py",
   "mimetype": "text/x-python",
   "name": "python",
   "nbconvert_exporter": "python",
   "pygments_lexer": "ipython3",
   "version": "3.8.5"
  }
 },
 "nbformat": 4,
 "nbformat_minor": 5
}
